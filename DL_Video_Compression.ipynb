{
 "cells": [
  {
   "cell_type": "markdown",
   "metadata": {
    "id": "iUmYpQUBHN1W"
   },
   "source": [
    "Project 3: A Deep Learning Conv/Deconv Model for Video Compression\n",
    "===\n",
    "\n",
    "### Author: Utku Turkbey\n",
    "### Contact: turkbey.utku@gmail.com\n",
    "\n",
    "In this project, a simple deep learning network for basic video compression is implemented.\n"
   ]
  },
  {
   "cell_type": "markdown",
   "metadata": {
    "id": "Dzs2kueOgxN3"
   },
   "source": [
    "---\n",
    "\n",
    "## 1. Preparation of the environment"
   ]
  },
  {
   "cell_type": "markdown",
   "metadata": {
    "id": "VkzEhhMfA-_b"
   },
   "source": [
    "### Prepare the data\n",
    "\n",
    "The video data for train/test is at https://drive.google.com/drive/folders/1-3jkYvdTxxJmLG4WSps95w55_GL7naBc?usp=sharing.\n",
    "\n",
    "The image data for training is at https://drive.google.com/drive/folders/1--iDlKbCuD4bYmSXUj7CrP-u4EezqGyv?usp=sharing. \n",
    "\n",
    "1. Put those folder (and the data inside of course) in your GoogleDrive.\n",
    "2. Run the command below to mount the GoogleDrive onto Colab.\n",
    "3. Check the path to the data (`'/content/drive/MyDrive/ELEC5306-2022'`)"
   ]
  },
  {
   "cell_type": "code",
   "execution_count": 1,
   "metadata": {
    "colab": {
     "base_uri": "https://localhost:8080/"
    },
    "id": "6bgKCJIe9jZh",
    "outputId": "b670d9d2-5588-4b3f-ef41-a2cfb8214658",
    "scrolled": true
   },
   "outputs": [
    {
     "ename": "ModuleNotFoundError",
     "evalue": "No module named 'google.colab'",
     "output_type": "error",
     "traceback": [
      "\u001b[1;31m---------------------------------------------------------------------------\u001b[0m",
      "\u001b[1;31mModuleNotFoundError\u001b[0m                       Traceback (most recent call last)",
      "\u001b[1;32m~\\AppData\\Local\\Temp\\ipykernel_10540\\4261281822.py\u001b[0m in \u001b[0;36m<module>\u001b[1;34m\u001b[0m\n\u001b[1;32m----> 1\u001b[1;33m \u001b[1;32mfrom\u001b[0m \u001b[0mgoogle\u001b[0m\u001b[1;33m.\u001b[0m\u001b[0mcolab\u001b[0m \u001b[1;32mimport\u001b[0m \u001b[0mdrive\u001b[0m\u001b[1;33m\u001b[0m\u001b[1;33m\u001b[0m\u001b[0m\n\u001b[0m\u001b[0;32m      2\u001b[0m \u001b[0mdrive\u001b[0m\u001b[1;33m.\u001b[0m\u001b[0mmount\u001b[0m\u001b[1;33m(\u001b[0m\u001b[1;34m'/content/drive'\u001b[0m\u001b[1;33m)\u001b[0m \u001b[1;31m#Mount the GoogleDrive onto Colab\u001b[0m\u001b[1;33m\u001b[0m\u001b[1;33m\u001b[0m\u001b[0m\n",
      "\u001b[1;31mModuleNotFoundError\u001b[0m: No module named 'google.colab'"
     ]
    }
   ],
   "source": [
    "from google.colab import drive\n",
    "drive.mount('/content/drive') # Mount the GoogleDrive onto Colab"
   ]
  },
  {
   "cell_type": "code",
   "execution_count": 2,
   "metadata": {
    "colab": {
     "base_uri": "https://localhost:8080/"
    },
    "id": "K_bVVD5zl2KJ",
    "outputId": "2ef151c0-a143-4907-ca90-98c5bce2d4d9"
   },
   "outputs": [
    {
     "name": "stdout",
     "output_type": "stream",
     "text": [
      "Image  valid  Video\n"
     ]
    }
   ],
   "source": [
    "!ls /content/drive/MyDrive/ELEC5306-2022 # Check the data path"
   ]
  },
  {
   "cell_type": "code",
   "execution_count": 3,
   "metadata": {
    "colab": {
     "base_uri": "https://localhost:8080/"
    },
    "id": "SEaWtWM6a1s2",
    "outputId": "2f54df0c-21f3-497a-ec10-36b92647cd0a",
    "scrolled": true
   },
   "outputs": [
    {
     "name": "stdout",
     "output_type": "stream",
     "text": [
      "Sun Jun  5 18:17:46 2022       \n",
      "+-----------------------------------------------------------------------------+\n",
      "| NVIDIA-SMI 460.32.03    Driver Version: 460.32.03    CUDA Version: 11.2     |\n",
      "|-------------------------------+----------------------+----------------------+\n",
      "| GPU  Name        Persistence-M| Bus-Id        Disp.A | Volatile Uncorr. ECC |\n",
      "| Fan  Temp  Perf  Pwr:Usage/Cap|         Memory-Usage | GPU-Util  Compute M. |\n",
      "|                               |                      |               MIG M. |\n",
      "|===============================+======================+======================|\n",
      "|   0  Tesla T4            Off  | 00000000:00:04.0 Off |                    0 |\n",
      "| N/A   62C    P8    11W /  70W |      0MiB / 15109MiB |      0%      Default |\n",
      "|                               |                      |                  N/A |\n",
      "+-------------------------------+----------------------+----------------------+\n",
      "                                                                               \n",
      "+-----------------------------------------------------------------------------+\n",
      "| Processes:                                                                  |\n",
      "|  GPU   GI   CI        PID   Type   Process name                  GPU Memory |\n",
      "|        ID   ID                                                   Usage      |\n",
      "|=============================================================================|\n",
      "|  No running processes found                                                 |\n",
      "+-----------------------------------------------------------------------------+\n"
     ]
    }
   ],
   "source": [
    "!nvidia-smi # Check if the GPU is used and the model for GPU"
   ]
  },
  {
   "cell_type": "markdown",
   "metadata": {
    "id": "Byw0cexcCqiM"
   },
   "source": [
    "---\n",
    "\n",
    "## 2. Coding\n",
    "\n",
    "Implementation of helper functions, compression model, necessary paramters and training. "
   ]
  },
  {
   "cell_type": "markdown",
   "metadata": {
    "id": "xDgQqbjXeTfn"
   },
   "source": [
    "1. Import necessary packages. "
   ]
  },
  {
   "cell_type": "code",
   "execution_count": 4,
   "metadata": {
    "id": "4qJclN79EecH"
   },
   "outputs": [],
   "source": [
    "# ################################################\n",
    "# import packages\n",
    "\n",
    "import argparse\n",
    "import time\n",
    "import math\n",
    "import random\n",
    "import shutil\n",
    "import sys\n",
    "import glob\n",
    "\n",
    "import torch\n",
    "import torch.nn as nn\n",
    "import torch.optim as optim\n",
    "\n",
    "from torch.utils.data import DataLoader\n",
    "from torchvision import transforms\n",
    "\n",
    "\n",
    "from pathlib import Path\n",
    "\n",
    "from PIL import Image\n",
    "from torch.utils.data import Dataset\n",
    "\n",
    "#For plotting learning curves\n",
    "from IPython import display\n",
    "import matplotlib.pyplot as plt\n",
    "\n",
    "#For displaying demo results\n",
    "import torchvision\n",
    "import numpy as np"
   ]
  },
  {
   "cell_type": "markdown",
   "metadata": {
    "id": "owR0dmNvfQmW"
   },
   "source": [
    "2. Define a Dataset classes that could iterate over images and videos under a directory. "
   ]
  },
  {
   "cell_type": "code",
   "execution_count": 5,
   "metadata": {
    "id": "kUZuUOkVE6Qw"
   },
   "outputs": [],
   "source": [
    "# ################################################\n",
    "# ImageFolder Dataset (SAME WITH TEMPLATE)\n",
    "\n",
    "class ImageFolder(Dataset):\n",
    "    \"\"\"Load an image folder database. Training and testing image samples\n",
    "    are respectively stored in separate directories:\n",
    "\n",
    "    .. code-block::\n",
    "\n",
    "        - rootdir/\n",
    "            - train/\n",
    "                - img000.png\n",
    "                - img001.png\n",
    "                ...\n",
    "            - valid/\n",
    "                - img000.png\n",
    "                - img001.png\n",
    "                ...\n",
    "\n",
    "    Args:\n",
    "        root (string): root directory of the dataset\n",
    "        transform (callable, optional): a function or transform that takes in a\n",
    "            PIL image and returns a transformed version\n",
    "    \"\"\"\n",
    "\n",
    "    def __init__(self, root, transform=None):\n",
    "        splitdir = Path(root)\n",
    "\n",
    "        if not splitdir.is_dir():\n",
    "            raise RuntimeError(f'Invalid directory \"{root}\"')\n",
    "\n",
    "        self.samples = [f for f in splitdir.iterdir() if f.is_file()]\n",
    "\n",
    "        self.transform = transform\n",
    "\n",
    "    def __getitem__(self, index):\n",
    "        \"\"\"\n",
    "        Args:\n",
    "            index (int): Index\n",
    "\n",
    "        Returns:\n",
    "            img: `PIL.Image.Image` or transformed `PIL.Image.Image`.\n",
    "        \"\"\"\n",
    "        img = Image.open(self.samples[index]).convert(\"RGB\")\n",
    "        if self.transform:\n",
    "            return self.transform(img)\n",
    "        return img\n",
    "\n",
    "    def __len__(self):\n",
    "        return len(self.samples)"
   ]
  },
  {
   "cell_type": "code",
   "execution_count": 6,
   "metadata": {
    "id": "lBKEXKmjChPU"
   },
   "outputs": [],
   "source": [
    "# ################################################\n",
    "# SequenceFolder Dataset (SAME WITH TEMPLATE)\n",
    "\n",
    "class SequenceFolder(Dataset):\n",
    "    \"\"\"Load an image folder database. Training and testing image samples\n",
    "    are respectively stored in separate directories:\n",
    "\n",
    "    .. code-block::\n",
    "\n",
    "        - rootdir/\n",
    "            - train/\n",
    "              - video 1\n",
    "                - img000.png\n",
    "                - img001.png\n",
    "                ...\n",
    "              - video 2\n",
    "                - img000.png\n",
    "                - img001.png\n",
    "                ...\n",
    "            - test/\n",
    "              - video 1\n",
    "                - img000.png\n",
    "                - img001.png\n",
    "                ...\n",
    "              - video 2\n",
    "                - img000.png\n",
    "                - img001.png\n",
    "                ...\n",
    "\n",
    "    Args:\n",
    "        root (string): root directory of the dataset\n",
    "        transform (callable, optional): a function or transform that takes in a\n",
    "            PIL image and returns a transformed version\n",
    "        split (string): split mode ('train' or 'val')\n",
    "    \"\"\"\n",
    "\n",
    "    def __init__(self, root, transform=None, split=\"train\"):\n",
    "        self.mode = split\n",
    "        splitdir = Path(root) / split\n",
    "\n",
    "        if not splitdir.is_dir():\n",
    "            raise RuntimeError(f'Invalid directory \"{root}\"')\n",
    "\n",
    "        self.samples = self.get_all_images(splitdir)\n",
    "\n",
    "        self.transform = transform\n",
    "\n",
    "    def get_all_images(self, direc):\n",
    "        self.images = []\n",
    "        self.image_sequence = []\n",
    "        self.sequences = [f for f in direc.iterdir() if f.is_dir()]\n",
    "        for sd in self.sequences:\n",
    "            images = []\n",
    "            for f in (sd / 'img').iterdir():\n",
    "                if f.is_file():\n",
    "                  images.append(f)\n",
    "            self.image_sequence.append(images)\n",
    "            self.images = self.images + list(sorted(images))\n",
    "\n",
    "        return self.images\n",
    "\n",
    "    def __getitem__(self, index):\n",
    "        \"\"\"\n",
    "        Args:\n",
    "            index (int): Index\n",
    "\n",
    "        Returns:\n",
    "            img: `PIL.Image.Image` or transformed `PIL.Image.Image`.\n",
    "        \"\"\"\n",
    "        img = Image.open(self.samples[index]).convert(\"RGB\")\n",
    "        if self.transform:\n",
    "            return self.transform(img)\n",
    "        return img\n",
    "\n",
    "    def __len__(self):\n",
    "        return len(self.samples)"
   ]
  },
  {
   "cell_type": "markdown",
   "metadata": {
    "id": "Kq1tuazucdCr"
   },
   "source": [
    "3. Define the Conv/Deconv based compression neural network."
   ]
  },
  {
   "cell_type": "code",
   "execution_count": 7,
   "metadata": {
    "id": "jIDZbA0JE8cQ"
   },
   "outputs": [],
   "source": [
    "# ###################################################\n",
    "# a baseline model (SAME WITH TEMPLATE)\n",
    "\n",
    "def conv(in_channels, out_channels, kernel_size=5, stride=2):\n",
    "    return nn.Conv2d(\n",
    "        in_channels,\n",
    "        out_channels,\n",
    "        kernel_size=kernel_size,\n",
    "        stride=stride,\n",
    "        padding=kernel_size // 2,\n",
    "    )\n",
    "\n",
    "\n",
    "def deconv(in_channels, out_channels, kernel_size=5, stride=2):\n",
    "    return nn.ConvTranspose2d(\n",
    "        in_channels,\n",
    "        out_channels,\n",
    "        kernel_size=kernel_size,\n",
    "        stride=stride,\n",
    "        output_padding=stride - 1,\n",
    "        padding=kernel_size // 2,\n",
    "    )\n",
    "\n",
    "\n",
    "class Network(nn.Module):\n",
    "\n",
    "    def __init__(self, N, M, init_weights=True, **kwargs):\n",
    "        super().__init__(**kwargs)\n",
    "\n",
    "        self.g_a = nn.Sequential(\n",
    "            conv(3, N),\n",
    "            conv(N, N),\n",
    "            conv(N, N),\n",
    "            conv(N, M),\n",
    "        )\n",
    "\n",
    "        self.g_s = nn.Sequential(\n",
    "            deconv(M, N),\n",
    "            deconv(N, N),\n",
    "            deconv(N, N),\n",
    "            deconv(N, 3),\n",
    "        )\n",
    "\n",
    "        self.N = N\n",
    "        self.M = M\n",
    "\n",
    "        if init_weights:\n",
    "            self._initialize_weights()\n",
    "\n",
    "    def forward(self, x):\n",
    "        y = self.g_a(x)\n",
    "        x_hat = self.g_s(y)\n",
    "\n",
    "        return {\n",
    "            \"x_hat\": x_hat,\n",
    "        }\n",
    "\n",
    "    def _initialize_weights(self):\n",
    "        for m in self.modules():\n",
    "            if isinstance(m, (nn.Conv2d, nn.ConvTranspose2d)):\n",
    "                nn.init.kaiming_normal_(m.weight)\n",
    "                if m.bias is not None:\n",
    "                    nn.init.zeros_(m.bias)\n",
    "\n",
    "    def compress(self, x):\n",
    "        y = self.g_a(x)\n",
    "        return y\n",
    "\n",
    "    def decompress(self, y_hat):\n",
    "        x_hat = self.g_s(y_hat).clamp_(0, 1)\n",
    "        return {\"x_hat\": x_hat}\n"
   ]
  },
  {
   "cell_type": "markdown",
   "metadata": {
    "id": "Yd9e3NRtlgi2"
   },
   "source": [
    "4. Define other ingredients for training and testing."
   ]
  },
  {
   "cell_type": "code",
   "execution_count": 8,
   "metadata": {
    "id": "pRlDgjicFtdN"
   },
   "outputs": [],
   "source": [
    "# (SAME WITH TEMPLATE)\n",
    "\n",
    "class Loss(nn.Module):\n",
    "\n",
    "    def __init__(self):\n",
    "        super().__init__()\n",
    "        self.mse = nn.MSELoss()\n",
    "\n",
    "    def forward(self, output, target):\n",
    "        out = {}\n",
    "        out[\"mse_loss\"] = self.mse(output[\"x_hat\"], target)\n",
    "        out[\"loss\"] = out[\"mse_loss\"] * 255\n",
    "\n",
    "        return out"
   ]
  },
  {
   "cell_type": "code",
   "execution_count": 9,
   "metadata": {
    "id": "MF1C9J_NYYoe"
   },
   "outputs": [],
   "source": [
    "# (SAME WITH TEMPLATE)\n",
    "\n",
    "class AverageMeter:\n",
    "    \"\"\"Compute running average.\"\"\"\n",
    "\n",
    "    def __init__(self):\n",
    "        self.val = 0\n",
    "        self.avg = 0\n",
    "        self.sum = 0\n",
    "        self.count = 0\n",
    "\n",
    "    def update(self, val, n=1):\n",
    "        self.val = val\n",
    "        self.sum += val * n\n",
    "        self.count += n\n",
    "        self.avg = self.sum / self.count"
   ]
  },
  {
   "cell_type": "code",
   "execution_count": 10,
   "metadata": {
    "id": "rwmPi5mebRu8"
   },
   "outputs": [],
   "source": [
    "# (SAME WITH TEMPLATE)\n",
    "\n",
    "def configure_optimizers(net, learning_rate):\n",
    "\n",
    "    optimizer = optim.Adam(\n",
    "        net.parameters(),\n",
    "        lr=learning_rate,\n",
    "    )\n",
    "\n",
    "    return optimizer"
   ]
  },
  {
   "cell_type": "code",
   "execution_count": 11,
   "metadata": {
    "id": "-rJt2-91bv4c"
   },
   "outputs": [],
   "source": [
    "# (SAME WITH TEMPLATE)\n",
    "\n",
    "def save_checkpoint(state, is_best, filename=\"checkpoint.pth.tar\"):\n",
    "    torch.save(state, filename)\n",
    "    if is_best:\n",
    "        shutil.copyfile(filename, \"checkpoint_best_loss.pth.tar\")"
   ]
  },
  {
   "cell_type": "code",
   "execution_count": 12,
   "metadata": {
    "id": "rKc3sUFXPK5d"
   },
   "outputs": [],
   "source": [
    "# (SAME WITH TEMPLATE)\n",
    "\n",
    "def PSNR(img1, img2):\n",
    "    # img1 and img2 within range [0, 1]\n",
    "    # img1 shape: (B, C, H, W)\n",
    "    # img2 shape: (B, C, H, W)\n",
    "    \n",
    "    img1, img2 = img1.detach(), img2.detach()\n",
    "    img1 = img1 * 255\n",
    "    img2 = img2 * 255\n",
    "    batch_size = img1.shape[0]\n",
    "    img1 = img1.reshape(batch_size, -1)\n",
    "    img2 = img2.reshape(batch_size, -1)\n",
    "    mse = torch.mean((img1 - img2) ** 2)\n",
    "    return torch.mean(20 * torch.log10(255.0 / torch.sqrt(mse)))"
   ]
  },
  {
   "cell_type": "markdown",
   "metadata": {},
   "source": [
    "5. Define training and testing functions for one epoch."
   ]
  },
  {
   "cell_type": "markdown",
   "metadata": {
    "id": "cCZLieuUjIn5"
   },
   "source": [
    "5.1. Define a `train_one_epoch` function for training the model for one epoch."
   ]
  },
  {
   "cell_type": "code",
   "execution_count": 14,
   "metadata": {
    "id": "M-J38tMfbiFR"
   },
   "outputs": [],
   "source": [
    "# (SAME WITH TEMPLATE)\n",
    "\n",
    "def train_one_epoch(\n",
    "    model, criterion, train_dataloader, optimizer, epoch, clip_max_norm\n",
    "):\n",
    "    model.train()\n",
    "    device = next(model.parameters()).device\n",
    "\n",
    "    for i, d in enumerate(train_dataloader):\n",
    "        d = d.to(device)\n",
    "\n",
    "        optimizer.zero_grad()\n",
    "\n",
    "        out_net = model(d)\n",
    "\n",
    "        out_criterion = criterion(out_net, d)\n",
    "        out_criterion[\"loss\"].backward()\n",
    "        if clip_max_norm > 0:\n",
    "            torch.nn.utils.clip_grad_norm_(model.parameters(), clip_max_norm)\n",
    "        optimizer.step()\n",
    "\n",
    "        if i % 10 == 0:\n",
    "            print(\n",
    "                f\"Train epoch {epoch}: [\"\n",
    "                f\"{i*len(d)}/{len(train_dataloader.dataset)}\"\n",
    "                f\" ({100. * i / len(train_dataloader):.0f}%)]\"\n",
    "                f'\\tLoss: {out_criterion[\"loss\"].item():.3f} |'\n",
    "                f'\\tMSE loss: {out_criterion[\"mse_loss\"].item():.3f}'\n",
    "            )\n"
   ]
  },
  {
   "cell_type": "markdown",
   "metadata": {
    "id": "J61e5WBajaz7"
   },
   "source": [
    "5.2. Likewise further define a `test_epoch` function. "
   ]
  },
  {
   "cell_type": "code",
   "execution_count": 15,
   "metadata": {
    "id": "qmVPXoflx2M1"
   },
   "outputs": [],
   "source": [
    "#Fundamentally same with the template function but customized for efficiency by using dataloaders.\n",
    "#A new parameter test_type added to test with either images or videos.\n",
    "#Average test PSNR value is also returned with average loss for plotting purposes.\n",
    "\n",
    "def test_epoch(epoch, test_dataset, test_transform, model, criterion, test_type=\"video\"):\n",
    "    model.eval()\n",
    "    device = next(model.parameters()).device\n",
    "\n",
    "    mse_loss = AverageMeter()\n",
    "    psnr = AverageMeter()\n",
    "\n",
    "    if test_type == \"video\":\n",
    "        with torch.no_grad():\n",
    "            for f in test_dataset.sequences: # Rather than directly looping over the scenes of videos stored in SequenceFolder.image_sequence, every video path in SequenceFolder.sequences are looped.\n",
    "                psnr_video = AverageMeter()\n",
    "                video = ImageFolder(f/\"img\", transform=test_transform) # For every video path, an ImageFolder dataset object is initialized using subfolder path named \"/img\". \n",
    "                video_loader = DataLoader(video, batch_size=256, num_workers=16, shuffle=False, pin_memory=(device == \"cuda\")) #A new DataLoader is created for loading each ImageFolder object.          \n",
    "                for i, images in enumerate(video_loader): #-ImageFolder objects created for each video is used for testing with DataLoader as an ordinary Image dataset. \n",
    "                                                          #-This operation loads scenes in videos much faster with parallelization and also conserves the individual PSNR and MSE loss for every video.\n",
    "                    d = images.to(device)\n",
    "                    out_net = model(d)\n",
    "                    d_out = out_net['x_hat']\n",
    "                    out_criterion = criterion(out_net, d)\n",
    "                    psnr_video.update(PSNR(d, d_out))\n",
    "                mse_loss.update(out_criterion[\"mse_loss\"])\n",
    "                psnr.update(psnr_video.avg)\n",
    "        print(\n",
    "            f\"Test epoch {epoch}: Average losses:\"\n",
    "            f\"\\tMSE loss: {mse_loss.avg:.3f}\"\n",
    "            f'\\tSequence-wise PSNR: {psnr.avg: .3f}\\n'\n",
    "        )\n",
    "\n",
    "    elif test_type == \"image\": # Similat operation with image folders of videos but for ordinary image folders.\n",
    "        with torch.no_grad():\n",
    "            image_loader = DataLoader(test_dataset, batch_size=256, num_workers=16, shuffle=False, pin_memory=(device == \"cuda\"))\n",
    "            for i, images in enumerate(image_loader):\n",
    "                d = images.to(device)\n",
    "                out_net = model(d)\n",
    "                d_out = out_net['x_hat']\n",
    "                out_criterion = criterion(out_net, d)\n",
    "                psnr.update(PSNR(d, d_out))\n",
    "            mse_loss.update(out_criterion[\"mse_loss\"])\n",
    "        print(\n",
    "            f\"Test epoch {epoch}: Average losses:\"\n",
    "            f\"\\tMSE loss: {mse_loss.avg:.3f}\"\n",
    "            f'\\tSequence-wise PSNR: {psnr.avg: .3f}\\n'\n",
    "        )\n",
    "\n",
    "    return (mse_loss.avg, psnr.avg)"
   ]
  },
  {
   "cell_type": "markdown",
   "metadata": {
    "id": "X9KqN_qlkDB0"
   },
   "source": [
    "6. Define a main function, and complete the whole training/testing process."
   ]
  },
  {
   "cell_type": "markdown",
   "metadata": {
    "id": "Wk512yTjv7Lh"
   },
   "source": [
    "6.1. Define arguments for training/validation."
   ]
  },
  {
   "cell_type": "code",
   "execution_count": 16,
   "metadata": {
    "id": "-h-p6LA_bw99"
   },
   "outputs": [],
   "source": [
    "seed = 123                                        # for reproducibility\n",
    "cuda = True                                       # use GPU\n",
    "save = False                                      # save trained model\n",
    "train_dataset_root = '/content/drive/MyDrive/ELEC5306-2022/Video' # path to the root of the Video dataset\n",
    "test_dataset_root = '/content/drive/MyDrive/ELEC5306-2022/Video'  # path to the root of the Video dataset\n",
    "checkpoint = False                                # load pretrained model\n",
    "epochs = 41                                       # total training epochs\n",
    "clip_max_norm = 1.0                               # avoid gradient explosion\n",
    "patch_size = (256, 256)                           # input size for the training network\n",
    "learning_rate = 1e-4  \n",
    "batch_size = 16\n",
    "test_batch_size = 16 \n",
    "num_workers = batch_size                          # multi-process for loading training data \n",
    "N = 128\n",
    "M = 192 "
   ]
  },
  {
   "cell_type": "code",
   "execution_count": 17,
   "metadata": {
    "id": "LL8_qmLaplFE"
   },
   "outputs": [],
   "source": [
    "# This cell is almost same with template except random padding in transformers and printing dataset sizes.\n",
    "\n",
    "torch.manual_seed(seed)\n",
    "random.seed(seed)\n",
    "\n",
    "#Define transformations\n",
    "train_transforms = transforms.Compose(\n",
    "    [transforms.RandomCrop(patch_size, pad_if_needed =True ), transforms.ToTensor()] #Random padding is used since some video scenes are smaller than patch_size.\n",
    ")\n",
    "\n",
    "test_transforms = transforms.Compose(\n",
    "    [transforms.CenterCrop(patch_size), transforms.ToTensor()]\n",
    ")\n",
    "\n",
    "train_dataset = SequenceFolder(train_dataset_root, split=\"train\", transform=train_transforms)\n",
    "test_dataset = SequenceFolder(test_dataset_root, split=\"test\", transform=None) #Transforms are applied during testing.\n",
    "\n",
    "#print(f\"# of training images = {len(train_dataset)}\")\n",
    "#print(f\"# of testing images = {len(test_dataset)}\")\n",
    "\n",
    "device = \"cuda\" if cuda and torch.cuda.is_available() else \"cpu\"\n",
    "\n",
    "train_dataloader = DataLoader(\n",
    "    train_dataset,\n",
    "    batch_size=batch_size,\n",
    "    num_workers=num_workers,\n",
    "    shuffle=True,\n",
    "    pin_memory=(device == \"cuda\"),\n",
    ")\n",
    "\n",
    "net = Network(N, M)\n",
    "net = net.to(device)\n",
    "\n",
    "optimizer = configure_optimizers(net, learning_rate)\n",
    "lr_scheduler = optim.lr_scheduler.ReduceLROnPlateau(optimizer, \"min\")\n",
    "criterion = Loss()"
   ]
  },
  {
   "cell_type": "markdown",
   "metadata": {},
   "source": [
    "6.2. Main function for training and testing"
   ]
  },
  {
   "cell_type": "code",
   "execution_count": 21,
   "metadata": {
    "colab": {
     "base_uri": "https://localhost:8080/",
     "height": 299
    },
    "id": "ZHEARHw8v56D",
    "outputId": "fa9fe455-4700-4869-fd33-23a71b938981",
    "scrolled": false
   },
   "outputs": [
    {
     "data": {
      "image/png": "[encoded data removed]",
      "text/plain": [
       "<Figure size 1440x288 with 2 Axes>"
      ]
     },
     "metadata": {
      "needs_background": "light"
     },
     "output_type": "display_data"
    },
    {
     "name": "stdout",
     "output_type": "stream",
     "text": [
      "the overall training time (exclude testing) is 31.994195413589477 min\n"
     ]
    }
   ],
   "source": [
    "last_epoch = 1\n",
    "if checkpoint:  # load from previous checkpoint\n",
    "    print(\"Loading\", checkpoint)\n",
    "    checkpoint = torch.load(checkpoint, map_location=device)\n",
    "    last_epoch = checkpoint[\"epoch\"] + 1\n",
    "    net.load_state_dict(checkpoint[\"state_dict\"])\n",
    "    optimizer.load_state_dict(checkpoint[\"optimizer\"])\n",
    "    lr_scheduler.load_state_dict(checkpoint[\"lr_scheduler\"])\n",
    "\n",
    "best_loss = float(\"inf\")\n",
    "train_time = AverageMeter()\n",
    "\n",
    "#Variables to hold the average MSE loss and PSNR test values for each epoch\n",
    "loss_values = []\n",
    "psnr_values = []\n",
    "\n",
    "for epoch in range(last_epoch, epochs):\n",
    "    if train_time.sum < 1800: # To enforce 30 mins training time limit. However there is a bug: since train_time is updated at the end of every training, if a training epoch has started before 30 mins, even if it passes 30 mins is keeps on training untill that last epoch finishes. \n",
    "        print(f\"Learning rate: {optimizer.param_groups[0]['lr']}\")\n",
    "        epoch_train_start = time.time()\n",
    "        train_one_epoch(\n",
    "            net,\n",
    "            criterion,\n",
    "            train_dataloader,\n",
    "            optimizer,\n",
    "            epoch,\n",
    "            clip_max_norm,\n",
    "        )\n",
    "        epoch_train_end = time.time()\n",
    "        train_time.update(epoch_train_end - epoch_train_start)\n",
    "        print(f\"Train epoch {epoch}: {epoch_train_end - epoch_train_start} seconds\")\n",
    "        loss, psnr = test_epoch(epoch, test_dataset, test_transforms, net, criterion, test_type=\"video\")\n",
    "        lr_scheduler.step(loss)\n",
    "\n",
    "        #update the loss and psnr test values after every epoch\n",
    "        loss_values.append(loss.item())\n",
    "        psnr_values.append(psnr.item())\n",
    "\n",
    "        is_best = loss < best_loss\n",
    "        best_loss = min(loss, best_loss)\n",
    "\n",
    "        if save:\n",
    "            save_checkpoint(\n",
    "                {\n",
    "                    \"epoch\": epoch,\n",
    "                    \"state_dict\": net.state_dict(),\n",
    "                    \"loss\": loss,\n",
    "                    \"optimizer\": optimizer.state_dict(),\n",
    "                    \"lr_scheduler\": lr_scheduler.state_dict(),\n",
    "                },\n",
    "                is_best,\n",
    "            )\n",
    "print('the overall training time (exclude testing) is {} min'.format(train_time.sum / 60))"
   ]
  },
  {
   "cell_type": "markdown",
   "metadata": {},
   "source": [
    "## 3. Results\n",
    "\n",
    "Plot learning curves and display sample compressed images from dataset for demonstration."
   ]
  },
  {
   "cell_type": "code",
   "execution_count": null,
   "metadata": {},
   "outputs": [],
   "source": [
    "font = {'family': 'Times New Roman',\n",
    "        'color':  'black',\n",
    "        'weight': 'bold',\n",
    "        'size': 16,\n",
    "        }\n",
    "\n",
    "plt.figure(1, (18, 5))\n",
    "\n",
    "plt.subplot(121)\n",
    "plt.plot(loss_values)\n",
    "plt.xlabel(\"Epoch\", fontdict=font)\n",
    "plt.ylabel(\"Loss\", fontdict=font)\n",
    "plt.title(\"Average Test Loss (MSE)\", fontdict=font)\n",
    "\n",
    "plt.subplot(122)\n",
    "plt.plot(psnr_values)\n",
    "plt.xlabel(\"Epoch\", fontdict=font)\n",
    "plt.ylabel(\"dB\", fontdict=font)\n",
    "plt.title(\"Average Test PSNR\", fontdict=font)"
   ]
  },
  {
   "cell_type": "code",
   "execution_count": null,
   "metadata": {},
   "outputs": [],
   "source": [
    "def imshow(img):\n",
    "    npimg = img.numpy()\n",
    "    plt.figure(figsize = (20,20))\n",
    "    plt.imshow(np.transpose(npimg, (1, 2, 0)))\n",
    "    plt.show()\n",
    "\n",
    "demo_dataset_root = '/content/drive/MyDrive/ELEC5306-2022/valid'\n",
    "demo_dataset = ImageFolder(demo_dataset_root, transform=test_transforms)\n",
    "demo_dataloader = DataLoader(demo_dataset, batch_size=4, num_workers=1, shuffle=True, pin_memory=(device == \"cuda\"))\n",
    "\n",
    "demo_images_original = iter(demo_dataloader).next().to(device)\n",
    "demo_images_compressed = net(demo_images_original)[\"x_hat\"]\n",
    "demo_images = torch.cat((demo_images_original, demo_images_compressed)).to(\"cpu\")\n",
    "\n",
    "imshow(torchvision.utils.make_grid(demo_images, nrow=4))"
   ]
  },
  {
   "cell_type": "markdown",
   "metadata": {
    "id": "TxSwpCHlmNWV"
   },
   "source": [
    "## 4. Benchmark Test\n",
    "\n"
   ]
  },
  {
   "cell_type": "code",
   "execution_count": 24,
   "metadata": {
    "colab": {
     "base_uri": "https://localhost:8080/"
    },
    "id": "X3AwHuR5uB5p",
    "outputId": "d8f6113b-13be-402f-f64c-205f85643a61"
   },
   "outputs": [
    {
     "name": "stdout",
     "output_type": "stream",
     "text": [
      "Looking in indexes: https://pypi.org/simple, https://us-python.pkg.dev/colab-wheels/public/simple/\n",
      "Collecting pthflops\n",
      "  Downloading pthflops-0.4.2-py3-none-any.whl (11 kB)\n",
      "Requirement already satisfied: torch in /usr/local/lib/python3.7/dist-packages (from pthflops) (1.11.0+cu113)\n",
      "Requirement already satisfied: typing-extensions in /usr/local/lib/python3.7/dist-packages (from torch->pthflops) (4.2.0)\n",
      "Installing collected packages: pthflops\n",
      "Successfully installed pthflops-0.4.2\n"
     ]
    }
   ],
   "source": [
    "!pip install pthflops"
   ]
  },
  {
   "cell_type": "code",
   "execution_count": 25,
   "metadata": {
    "colab": {
     "base_uri": "https://localhost:8080/"
    },
    "id": "k63OH5MEuS4V",
    "outputId": "f94d35f1-5b27-4791-b9fc-f97bf97b7fdf"
   },
   "outputs": [
    {
     "name": "stdout",
     "output_type": "stream",
     "text": [
      "##############################\n",
      "[Acceptable Model Complexity]\n",
      "47\n",
      "##############################\n",
      "\n",
      "\n",
      "##############################\n",
      "[Acceptable Compression Ratio]\n",
      "0.7378560000000001\n",
      "##############################\n",
      "you can move on :)\n"
     ]
    }
   ],
   "source": [
    "from pthflops import count_ops\n",
    "\n",
    "MAX_GFLOPS = 3000\n",
    "MIN_RATIO = 0.7\n",
    "\n",
    "def benchmark(yournet):\n",
    "    yournet = yournet.cuda()\n",
    "    x = torch.randn((1, 3, 500, 500)).cuda()\n",
    "    try:\n",
    "      yournet.compress(x)\n",
    "    except AttributeError:\n",
    "      print('does your network have a ```def compress(self, input)``` function?')\n",
    "      print('refer to the baseline model in the template')\n",
    "      return\n",
    "\n",
    "    est, _ = count_ops(yournet, x, print_readable=False, verbose=False)\n",
    "    est = int(est / 1e9)\n",
    "    if est <= MAX_GFLOPS:\n",
    "      print('#' * 30)\n",
    "      print('[Acceptable Model Complexity]')\n",
    "      print(est)\n",
    "      print('#' * 30)\n",
    "      print('\\n')\n",
    "    else:\n",
    "      assert 0, 'Your model complexity is {} GFLOPS, the acceptable maximum is {} GFLOPS. Make your model smaller'.format(est, MAX_GFLOPS)\n",
    "\n",
    "    compressed = yournet.compress(x)\n",
    "    ratio = 1 - compressed.numel() / x.numel()\n",
    "    if ratio >= MIN_RATIO:\n",
    "      print('#' * 30)\n",
    "      print('[Acceptable Compression Ratio]')\n",
    "      print(ratio)\n",
    "      print('#' * 30)\n",
    "    else:\n",
    "      assert 0, 'Current compression ratio is {} , the acceptable lowest ratio is {}. Make it higher'.format(ratio, MIN_RATIO)\n",
    "\n",
    "    print('you can move on :)')\n",
    "\n",
    "benchmark(net)\n"
   ]
  }
 ],
 "metadata": {
  "accelerator": "GPU",
  "colab": {
   "collapsed_sections": [],
   "name": "ELEC5306_P3_V2.ipynb",
   "provenance": []
  },
  "kernelspec": {
   "display_name": "Python 3 (ipykernel)",
   "language": "python",
   "name": "python3"
  },
  "language_info": {
   "codemirror_mode": {
    "name": "ipython",
    "version": 3
   },
   "file_extension": ".py",
   "mimetype": "text/x-python",
   "name": "python",
   "nbconvert_exporter": "python",
   "pygments_lexer": "ipython3",
   "version": "3.9.10"
  }
 },
 "nbformat": 4,
 "nbformat_minor": 1
}
